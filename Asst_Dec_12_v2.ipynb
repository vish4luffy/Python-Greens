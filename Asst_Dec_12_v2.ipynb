{
 "cells": [
  {
   "cell_type": "raw",
   "metadata": {},
   "source": [
    "Qn 1\n",
    "\n",
    "Write a program to reverse a given number\n",
    "ex: 102 to 201\n",
    "\n",
    "Qn 2\n",
    "\n",
    "Take marks of 5 subjects (input from user) and find grade; \n",
    "i.e., >90 - S and 80-90 - A etc\n",
    "\n",
    "Qn 3\n",
    "\n",
    "Read 2 numbers and find quotient and reminder\n",
    "\n",
    "Qn 4\n",
    "\n",
    "Accept 3 digit number and find possible combinations of the same\n",
    "\n",
    "Qn 5\n",
    "\n",
    "Get some number from user and print the number of digits in the number\n",
    "\n",
    "Qn 6\n",
    "\n",
    "Inverted star pattern ex: 5; o/p: *****, ****, ***, **, *\n",
    "\n"
   ]
  },
  {
   "cell_type": "markdown",
   "metadata": {},
   "source": [
    "Question 1"
   ]
  },
  {
   "cell_type": "code",
   "execution_count": 7,
   "metadata": {},
   "outputs": [
    {
     "data": {
      "text/plain": [
       "234"
      ]
     },
     "execution_count": 7,
     "metadata": {},
     "output_type": "execute_result"
    }
   ],
   "source": [
    "n2=n1//10\n",
    "n2"
   ]
  },
  {
   "cell_type": "code",
   "execution_count": 4,
   "metadata": {},
   "outputs": [
    {
     "data": {
      "text/plain": [
       "2"
      ]
     },
     "execution_count": 4,
     "metadata": {},
     "output_type": "execute_result"
    }
   ],
   "source": [
    "23//10"
   ]
  },
  {
   "cell_type": "markdown",
   "metadata": {},
   "source": [
    "n1=2340\n",
    "\n",
    "take modulo 10, append it to a list and then floor divide by 10\n",
    "repeat the process till the last number and then convert list to number"
   ]
  },
  {
   "cell_type": "code",
   "execution_count": 9,
   "metadata": {},
   "outputs": [
    {
     "name": "stdout",
     "output_type": "stream",
     "text": [
      "[0, 1, 3, 2]\n",
      "132\n"
     ]
    }
   ],
   "source": [
    "n1=2310\n",
    "\n",
    "l1=[]\n",
    "while n1!=0:\n",
    "    n2=n1%10\n",
    "    # print(n2)\n",
    "    l1.append(n2)\n",
    "    n1=n1//10\n",
    "print(l1)\n",
    "n1=int(\"\".join(str(i) for i in l1))\n",
    "print(n1)\n",
    "    "
   ]
  },
  {
   "cell_type": "markdown",
   "metadata": {},
   "source": [
    "Question 2"
   ]
  },
  {
   "cell_type": "raw",
   "metadata": {},
   "source": [
    "Take a list and then append all 5 marks in it for a student\n",
    "\n",
    "Then write if elif else to calc grades accordingly for the 5 marks "
   ]
  },
  {
   "cell_type": "code",
   "execution_count": 15,
   "metadata": {},
   "outputs": [
    {
     "name": "stdout",
     "output_type": "stream",
     "text": [
      "please enter mark 1 : 100\n",
      "[100]\n",
      "please enter mark 2 : 98\n",
      "[100, 98]\n",
      "please enter mark 3 : 87\n",
      "[100, 98, 87]\n",
      "please enter mark 4 : 77\n",
      "[100, 98, 87, 77]\n",
      "please enter mark 5 : 43\n",
      "[100, 98, 87, 77, 43]\n",
      "[100, 98, 87, 77, 43] ['s', 's', 'a', 'b', 'fail']\n"
     ]
    }
   ],
   "source": [
    "l1=[]; l2=[]\n",
    "for i in range(5):\n",
    "    mark=input(\"please enter mark \"+str(i+1)+\" : \")\n",
    "    l1.append(int(mark))\n",
    "    # print(l1)\n",
    "for i in range(len(l1)):\n",
    "    if l1[i]>90:\n",
    "        grade='s'\n",
    "    elif l1[i]>80 and l1[i]<=90:\n",
    "        grade='a'\n",
    "    elif l1[i]>70 and l1[i]<=80:\n",
    "        grade='b'\n",
    "    elif l1[i]>60 and l1[i]<=70:\n",
    "        grade='c'\n",
    "    else:\n",
    "        grade='fail'\n",
    "    l2.append(grade)\n",
    "print(l1,l2)"
   ]
  },
  {
   "cell_type": "markdown",
   "metadata": {},
   "source": [
    "Question 3"
   ]
  },
  {
   "cell_type": "raw",
   "metadata": {},
   "source": [
    "Take 2 numbers and apply // and % operators to find quotient and reminder respectively"
   ]
  },
  {
   "cell_type": "code",
   "execution_count": 16,
   "metadata": {},
   "outputs": [
    {
     "name": "stdout",
     "output_type": "stream",
     "text": [
      "Please enter number 1: 75\n",
      "Please enter number 2: 5\n",
      "15 0\n"
     ]
    }
   ],
   "source": [
    "num1=int(input(\"Please enter number 1: \"))\n",
    "num2=int(input(\"Please enter number 2: \"))\n",
    "\n",
    "quotient=num1//num2\n",
    "remainder=num1%num2\n",
    "\n",
    "print(quotient, remainder)"
   ]
  },
  {
   "cell_type": "markdown",
   "metadata": {},
   "source": [
    "Question 4"
   ]
  },
  {
   "cell_type": "raw",
   "metadata": {},
   "source": [
    "Apply logic of Q1 to separate different digits of a number and then apply some shuffling logic to get different permutations of the number"
   ]
  },
  {
   "cell_type": "code",
   "execution_count": 7,
   "metadata": {},
   "outputs": [
    {
     "name": "stdout",
     "output_type": "stream",
     "text": [
      "[3042, 3024, 3402, 3240, 4203, 2304, 4302, 432, 2430, 324, 243, 3204, 342, 3420, 2340, 234, 4320, 2043, 2403, 4023, 4230, 2034, 4032, 423]\n"
     ]
    }
   ],
   "source": [
    "import itertools\n",
    "\n",
    "n4=2340; l4=[]; l5=[]\n",
    "while n4!=0:\n",
    "    n5=n4%10\n",
    "    # print(n2)\n",
    "    l4.append(n5)\n",
    "    n4=n4//10\n",
    "# print(l4)\n",
    "s4=set(itertools.permutations(l4))\n",
    "# print(s4)\n",
    "for i in s4:\n",
    "     l5.append(int(\"\".join(str(j) for j in i)))\n",
    "print(l5)\n",
    "        # lst = [3, 3, 4]\n",
    "# {(3, 4, 3), (3, 3, 4), (4, 3, 3)}"
   ]
  },
  {
   "cell_type": "markdown",
   "metadata": {},
   "source": [
    "Question 5"
   ]
  },
  {
   "cell_type": "raw",
   "metadata": {},
   "source": [
    "Apply logic from question 1 and calc len of list of individual digits and print it"
   ]
  },
  {
   "cell_type": "code",
   "execution_count": 9,
   "metadata": {},
   "outputs": [
    {
     "name": "stdout",
     "output_type": "stream",
     "text": [
      "Please enter a number: 1234567\n",
      "7\n"
     ]
    }
   ],
   "source": [
    "n1=int(input(\"Please enter a number: \"))\n",
    "\n",
    "l1=[]\n",
    "while n1!=0:\n",
    "    n2=n1%10\n",
    "    l1.append(n2)\n",
    "    n1=n1//10\n",
    "print(len(l1))"
   ]
  },
  {
   "cell_type": "markdown",
   "metadata": {},
   "source": [
    "Question 6"
   ]
  },
  {
   "cell_type": "raw",
   "metadata": {},
   "source": [
    "Use 2 loops (for/while) to accomplish this"
   ]
  },
  {
   "cell_type": "code",
   "execution_count": null,
   "metadata": {},
   "outputs": [],
   "source": []
  }
 ],
 "metadata": {
  "kernelspec": {
   "display_name": "Python 3",
   "language": "python",
   "name": "python3"
  },
  "language_info": {
   "codemirror_mode": {
    "name": "ipython",
    "version": 3
   },
   "file_extension": ".py",
   "mimetype": "text/x-python",
   "name": "python",
   "nbconvert_exporter": "python",
   "pygments_lexer": "ipython3",
   "version": "3.5.2"
  }
 },
 "nbformat": 4,
 "nbformat_minor": 2
}
