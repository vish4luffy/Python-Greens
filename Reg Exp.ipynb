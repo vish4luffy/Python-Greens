{
 "cells": [
  {
   "cell_type": "code",
   "execution_count": 1,
   "metadata": {},
   "outputs": [],
   "source": [
    "import re"
   ]
  },
  {
   "cell_type": "raw",
   "metadata": {},
   "source": [
    "search -> looks for that bit which we're searching inside the string (i.e., only the 1st occurence)\n",
    "match -> looks for proper match\n",
    "findall -> returns all the occurences in a string\n",
    "compile -> compiles a pattern into an re object"
   ]
  },
  {
   "cell_type": "raw",
   "metadata": {},
   "source": [
    "Homework:\n",
    "\n",
    "1. Pattern for IPv4\n",
    "\n",
    "\n"
   ]
  }
 ],
 "metadata": {
  "kernelspec": {
   "display_name": "Python 3",
   "language": "python",
   "name": "python3"
  },
  "language_info": {
   "codemirror_mode": {
    "name": "ipython",
    "version": 3
   },
   "file_extension": ".py",
   "mimetype": "text/x-python",
   "name": "python",
   "nbconvert_exporter": "python",
   "pygments_lexer": "ipython3",
   "version": "3.7.0"
  }
 },
 "nbformat": 4,
 "nbformat_minor": 2
}
