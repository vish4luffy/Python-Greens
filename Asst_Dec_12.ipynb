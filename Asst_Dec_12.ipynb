{
 "cells": [
  {
   "cell_type": "raw",
   "metadata": {},
   "source": [
    "Qn 1\n",
    "\n",
    "Write a program to reverse a given number\n",
    "ex: 102 to 201\n",
    "\n",
    "Qn 2\n",
    "\n",
    "Take marks of 5 subjects (input from user) and find grade; \n",
    "i.e., >90 - S and 80-90 - A etc\n",
    "\n",
    "Qn 3\n",
    "\n",
    "Read 2 numbers and find quotient and reminder\n",
    "\n",
    "Qn 4\n",
    "\n",
    "Accept 3 digit number and find possible combinations of the same\n",
    "\n",
    "Qn 5\n",
    "\n",
    "Get some number from user and print the number of digits in the number\n",
    "\n",
    "Qn 6\n",
    "\n",
    "Inverted star pattern ex: 5; o/p: *****, ****, ***, **, *\n",
    "\n"
   ]
  },
  {
   "cell_type": "markdown",
   "metadata": {},
   "source": [
    "Question 1"
   ]
  },
  {
   "cell_type": "code",
   "execution_count": 7,
   "metadata": {},
   "outputs": [
    {
     "data": {
      "text/plain": [
       "234"
      ]
     },
     "execution_count": 7,
     "metadata": {},
     "output_type": "execute_result"
    }
   ],
   "source": [
    "n2=n1//10\n",
    "n2"
   ]
  },
  {
   "cell_type": "markdown",
   "metadata": {},
   "source": [
    "n1=2340\n",
    "\n",
    "take modulo 10, append it to a list and then floor divide by 10\n",
    "repeat the process till the last number and then convert list to number"
   ]
  },
  {
   "cell_type": "markdown",
   "metadata": {},
   "source": [
    "Question 2"
   ]
  },
  {
   "cell_type": "raw",
   "metadata": {},
   "source": [
    "Take a list and then append all 5 marks in it for a student\n",
    "\n",
    "Then write if elif else to calc grades accordingly for the 5 marks "
   ]
  },
  {
   "cell_type": "markdown",
   "metadata": {},
   "source": [
    "Question 3"
   ]
  },
  {
   "cell_type": "raw",
   "metadata": {},
   "source": [
    "Take 2 numbers and apply // and % operators to find quotient and reminder respectively"
   ]
  },
  {
   "cell_type": "markdown",
   "metadata": {},
   "source": [
    "Question 4"
   ]
  },
  {
   "cell_type": "raw",
   "metadata": {},
   "source": [
    "Apply logic of Q1 to separate different digits of a number and then apply some shuffling logic to get different permutations of the number"
   ]
  },
  {
   "cell_type": "markdown",
   "metadata": {},
   "source": [
    "Question 5"
   ]
  },
  {
   "cell_type": "raw",
   "metadata": {},
   "source": [
    "Apply logic from question 1 and calc len of list of individual digits and print it"
   ]
  },
  {
   "cell_type": "markdown",
   "metadata": {},
   "source": [
    "Question 6"
   ]
  },
  {
   "cell_type": "raw",
   "metadata": {},
   "source": [
    "Use 2 loops (for/while) to accomplish this"
   ]
  },
  {
   "cell_type": "code",
   "execution_count": null,
   "metadata": {},
   "outputs": [],
   "source": []
  }
 ],
 "metadata": {
  "kernelspec": {
   "display_name": "Python 3",
   "language": "python",
   "name": "python3"
  },
  "language_info": {
   "codemirror_mode": {
    "name": "ipython",
    "version": 3
   },
   "file_extension": ".py",
   "mimetype": "text/x-python",
   "name": "python",
   "nbconvert_exporter": "python",
   "pygments_lexer": "ipython3",
   "version": "3.7.0"
  }
 },
 "nbformat": 4,
 "nbformat_minor": 2
}
